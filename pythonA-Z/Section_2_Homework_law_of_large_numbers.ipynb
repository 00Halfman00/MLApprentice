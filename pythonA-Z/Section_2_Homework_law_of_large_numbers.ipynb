{
 "cells": [
  {
   "cell_type": "markdown",
   "id": "1903d494",
   "metadata": {},
   "source": [
    "Test The Law Of Large Numbers for N random normally distributed numbers with mean = 0, stdev = 1:\n",
    "\n",
    "Create a Python script that will count how many of these numbers fall between -1 and 1 and divide by the total quantity of N\n",
    "\n",
    "You know that E(X) = 68.2%\n",
    "\n",
    "Check that Mean(Xn)  ->  E(X) as you rerun your script while increasing N"
   ]
  },
  {
   "cell_type": "code",
   "execution_count": 2,
   "id": "2acf6b61",
   "metadata": {},
   "outputs": [],
   "source": [
    "import numpy as mp\n",
    "from numpy.random import randn"
   ]
  },
  {
   "cell_type": "markdown",
   "id": "a73962e3",
   "metadata": {},
   "source": [
    "Returns samples from the standard normal distribution (Gaussian), i.e. mean = 0, std dev = 1.\n",
    "\n",
    "The values it produces are continuous and can technically range from -∞ to +∞, but in practice:\n",
    "~68% of values fall between -1 and +1\n",
    "~95% between -2 and +2\n",
    "~99.7% between -3 and +3\n",
    "\n",
    "So while the range is unbounded, most values will be clustered around 0."
   ]
  },
  {
   "cell_type": "code",
   "execution_count": 21,
   "id": "3e1b00ca",
   "metadata": {},
   "outputs": [
    {
     "data": {
      "text/plain": [
       "-0.4368621030354205"
      ]
     },
     "execution_count": 21,
     "metadata": {},
     "output_type": "execute_result"
    }
   ],
   "source": [
    "randn()"
   ]
  },
  {
   "cell_type": "code",
   "execution_count": 37,
   "id": "ebf7466c",
   "metadata": {},
   "outputs": [
    {
     "name": "stdout",
     "output_type": "stream",
     "text": [
      "count:  0.682\n"
     ]
    }
   ],
   "source": [
    "count = 0\n",
    "N = 10000\n",
    "for i in randn(N):\n",
    "  if i > -1 and i < 1:\n",
    "    count += 1\n",
    "print('count: ', count/N)"
   ]
  },
  {
   "cell_type": "markdown",
   "id": "27622e00",
   "metadata": {},
   "source": []
  }
 ],
 "metadata": {
  "kernelspec": {
   "display_name": "Python 3 (ipykernel)",
   "language": "python",
   "name": "python3"
  }
 },
 "nbformat": 4,
 "nbformat_minor": 5
}
