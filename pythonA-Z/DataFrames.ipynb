{
 "cells": [
  {
   "cell_type": "code",
   "execution_count": 93,
   "id": "096a3a01",
   "metadata": {},
   "outputs": [],
   "source": [
    "import os\n",
    "import matplotlib.pyplot as plt"
   ]
  },
  {
   "cell_type": "code",
   "execution_count": 94,
   "id": "41c4711e",
   "metadata": {},
   "outputs": [
    {
     "name": "stdout",
     "output_type": "stream",
     "text": [
      "/Users/oscarsanchez\n"
     ]
    }
   ],
   "source": [
    "print(os.getcwd())"
   ]
  },
  {
   "cell_type": "code",
   "execution_count": 95,
   "id": "c1a6d493",
   "metadata": {},
   "outputs": [],
   "source": [
    "import pandas as pd\n",
    "stats = pd.read_csv('/Users/oscarsanchez/Desktop/SDS/loan_applications.csv')"
   ]
  },
  {
   "cell_type": "code",
   "execution_count": 96,
   "id": "b1d915c0",
   "metadata": {},
   "outputs": [
    {
     "data": {
      "text/html": [
       "<div>\n",
       "<style scoped>\n",
       "    .dataframe tbody tr th:only-of-type {\n",
       "        vertical-align: middle;\n",
       "    }\n",
       "\n",
       "    .dataframe tbody tr th {\n",
       "        vertical-align: top;\n",
       "    }\n",
       "\n",
       "    .dataframe thead th {\n",
       "        text-align: right;\n",
       "    }\n",
       "</style>\n",
       "<table border=\"1\" class=\"dataframe\">\n",
       "  <thead>\n",
       "    <tr style=\"text-align: right;\">\n",
       "      <th></th>\n",
       "      <th>application_id</th>\n",
       "      <th>application_date</th>\n",
       "      <th>age</th>\n",
       "      <th>gender</th>\n",
       "      <th>education</th>\n",
       "      <th>occupation</th>\n",
       "      <th>employment_length</th>\n",
       "      <th>income</th>\n",
       "      <th>loan_amount</th>\n",
       "      <th>loan_term</th>\n",
       "      <th>interest_rate</th>\n",
       "      <th>monthly_payment</th>\n",
       "      <th>credit_score</th>\n",
       "      <th>existing_loans</th>\n",
       "      <th>previous_defaults</th>\n",
       "      <th>city</th>\n",
       "      <th>default</th>\n",
       "    </tr>\n",
       "  </thead>\n",
       "  <tbody>\n",
       "    <tr>\n",
       "      <th>0</th>\n",
       "      <td>1</td>\n",
       "      <td>2020-01-05</td>\n",
       "      <td>40</td>\n",
       "      <td>M</td>\n",
       "      <td>Master</td>\n",
       "      <td>Self-employed</td>\n",
       "      <td>13.573526</td>\n",
       "      <td>40298.38</td>\n",
       "      <td>95254.57</td>\n",
       "      <td>48</td>\n",
       "      <td>10.95</td>\n",
       "      <td>2459.46</td>\n",
       "      <td>781.0</td>\n",
       "      <td>0.0</td>\n",
       "      <td>0</td>\n",
       "      <td>CITY_22</td>\n",
       "      <td>0</td>\n",
       "    </tr>\n",
       "    <tr>\n",
       "      <th>1</th>\n",
       "      <td>2</td>\n",
       "      <td>2020-05-21</td>\n",
       "      <td>33</td>\n",
       "      <td>M</td>\n",
       "      <td>Bachelor</td>\n",
       "      <td>Salaried</td>\n",
       "      <td>3.061310</td>\n",
       "      <td>38167.11</td>\n",
       "      <td>140514.31</td>\n",
       "      <td>60</td>\n",
       "      <td>17.12</td>\n",
       "      <td>3501.53</td>\n",
       "      <td>687.0</td>\n",
       "      <td>1.0</td>\n",
       "      <td>0</td>\n",
       "      <td>CITY_41</td>\n",
       "      <td>0</td>\n",
       "    </tr>\n",
       "    <tr>\n",
       "      <th>2</th>\n",
       "      <td>3</td>\n",
       "      <td>2020-09-24</td>\n",
       "      <td>42</td>\n",
       "      <td>F</td>\n",
       "      <td>Bachelor</td>\n",
       "      <td>Unemployed</td>\n",
       "      <td>12.040059</td>\n",
       "      <td>8666.27</td>\n",
       "      <td>13340.61</td>\n",
       "      <td>60</td>\n",
       "      <td>11.89</td>\n",
       "      <td>296.01</td>\n",
       "      <td>795.0</td>\n",
       "      <td>0.0</td>\n",
       "      <td>0</td>\n",
       "      <td>CITY_68</td>\n",
       "      <td>0</td>\n",
       "    </tr>\n",
       "    <tr>\n",
       "      <th>3</th>\n",
       "      <td>4</td>\n",
       "      <td>2020-05-10</td>\n",
       "      <td>53</td>\n",
       "      <td>F</td>\n",
       "      <td>High School</td>\n",
       "      <td>Salaried</td>\n",
       "      <td>8.490862</td>\n",
       "      <td>33093.00</td>\n",
       "      <td>73008.42</td>\n",
       "      <td>60</td>\n",
       "      <td>12.89</td>\n",
       "      <td>1657.01</td>\n",
       "      <td>724.0</td>\n",
       "      <td>2.0</td>\n",
       "      <td>0</td>\n",
       "      <td>CITY_8</td>\n",
       "      <td>0</td>\n",
       "    </tr>\n",
       "    <tr>\n",
       "      <th>4</th>\n",
       "      <td>5</td>\n",
       "      <td>2020-05-15</td>\n",
       "      <td>32</td>\n",
       "      <td>M</td>\n",
       "      <td>Master</td>\n",
       "      <td>Salaried</td>\n",
       "      <td>0.782913</td>\n",
       "      <td>41115.42</td>\n",
       "      <td>51399.26</td>\n",
       "      <td>12</td>\n",
       "      <td>7.58</td>\n",
       "      <td>4461.24</td>\n",
       "      <td>510.0</td>\n",
       "      <td>0.0</td>\n",
       "      <td>0</td>\n",
       "      <td>CITY_33</td>\n",
       "      <td>1</td>\n",
       "    </tr>\n",
       "  </tbody>\n",
       "</table>\n",
       "</div>"
      ],
      "text/plain": [
       "   application_id application_date  age gender    education     occupation  \\\n",
       "0               1       2020-01-05   40      M       Master  Self-employed   \n",
       "1               2       2020-05-21   33      M     Bachelor       Salaried   \n",
       "2               3       2020-09-24   42      F     Bachelor     Unemployed   \n",
       "3               4       2020-05-10   53      F  High School       Salaried   \n",
       "4               5       2020-05-15   32      M       Master       Salaried   \n",
       "\n",
       "   employment_length    income  loan_amount  loan_term  interest_rate  \\\n",
       "0          13.573526  40298.38     95254.57         48          10.95   \n",
       "1           3.061310  38167.11    140514.31         60          17.12   \n",
       "2          12.040059   8666.27     13340.61         60          11.89   \n",
       "3           8.490862  33093.00     73008.42         60          12.89   \n",
       "4           0.782913  41115.42     51399.26         12           7.58   \n",
       "\n",
       "   monthly_payment  credit_score  existing_loans  previous_defaults     city  \\\n",
       "0          2459.46         781.0             0.0                  0  CITY_22   \n",
       "1          3501.53         687.0             1.0                  0  CITY_41   \n",
       "2           296.01         795.0             0.0                  0  CITY_68   \n",
       "3          1657.01         724.0             2.0                  0   CITY_8   \n",
       "4          4461.24         510.0             0.0                  0  CITY_33   \n",
       "\n",
       "   default  \n",
       "0        0  \n",
       "1        0  \n",
       "2        0  \n",
       "3        0  \n",
       "4        1  "
      ]
     },
     "execution_count": 96,
     "metadata": {},
     "output_type": "execute_result"
    }
   ],
   "source": [
    "stats.head()"
   ]
  },
  {
   "cell_type": "code",
   "execution_count": 97,
   "id": "2dc9e839",
   "metadata": {},
   "outputs": [],
   "source": [
    "cap_columns = []\n",
    "for column in stats.columns:\n",
    "    parts = column.split('_')\n",
    "    cap_parts = [part.capitalize() for part in parts]\n",
    "    text = \"\".join(cap_parts)\n",
    "    cap_columns.append(text)\n",
    "stats.columns = cap_columns"
   ]
  },
  {
   "cell_type": "code",
   "execution_count": 98,
   "id": "177dafa0",
   "metadata": {},
   "outputs": [
    {
     "data": {
      "text/plain": [
       "0        False\n",
       "1         True\n",
       "2        False\n",
       "3        False\n",
       "4         True\n",
       "         ...  \n",
       "49995     True\n",
       "49996     True\n",
       "49997    False\n",
       "49998     True\n",
       "49999    False\n",
       "Name: Age, Length: 50000, dtype: bool"
      ]
     },
     "execution_count": 98,
     "metadata": {},
     "output_type": "execute_result"
    }
   ],
   "source": [
    "stats.Age < 40"
   ]
  },
  {
   "cell_type": "code",
   "execution_count": 99,
   "id": "ea0f7ee9",
   "metadata": {},
   "outputs": [],
   "source": [
    "educationFilter = (stats.Education == 'Bachelor')\n"
   ]
  },
  {
   "cell_type": "code",
   "execution_count": 100,
   "id": "5546c8d7",
   "metadata": {},
   "outputs": [
    {
     "data": {
      "text/plain": [
       "pandas.core.series.Series"
      ]
     },
     "execution_count": 100,
     "metadata": {},
     "output_type": "execute_result"
    }
   ],
   "source": [
    "type(educationFilter)"
   ]
  },
  {
   "cell_type": "code",
   "execution_count": 101,
   "id": "8dc09bd1",
   "metadata": {},
   "outputs": [
    {
     "data": {
      "text/html": [
       "<div>\n",
       "<style scoped>\n",
       "    .dataframe tbody tr th:only-of-type {\n",
       "        vertical-align: middle;\n",
       "    }\n",
       "\n",
       "    .dataframe tbody tr th {\n",
       "        vertical-align: top;\n",
       "    }\n",
       "\n",
       "    .dataframe thead th {\n",
       "        text-align: right;\n",
       "    }\n",
       "</style>\n",
       "<table border=\"1\" class=\"dataframe\">\n",
       "  <thead>\n",
       "    <tr style=\"text-align: right;\">\n",
       "      <th></th>\n",
       "      <th>ApplicationId</th>\n",
       "      <th>ApplicationDate</th>\n",
       "      <th>Age</th>\n",
       "      <th>Gender</th>\n",
       "      <th>Education</th>\n",
       "      <th>Occupation</th>\n",
       "      <th>EmploymentLength</th>\n",
       "      <th>Income</th>\n",
       "      <th>LoanAmount</th>\n",
       "      <th>LoanTerm</th>\n",
       "      <th>InterestRate</th>\n",
       "      <th>MonthlyPayment</th>\n",
       "      <th>CreditScore</th>\n",
       "      <th>ExistingLoans</th>\n",
       "      <th>PreviousDefaults</th>\n",
       "      <th>City</th>\n",
       "      <th>Default</th>\n",
       "    </tr>\n",
       "  </thead>\n",
       "  <tbody>\n",
       "    <tr>\n",
       "      <th>1</th>\n",
       "      <td>2</td>\n",
       "      <td>2020-05-21</td>\n",
       "      <td>33</td>\n",
       "      <td>M</td>\n",
       "      <td>Bachelor</td>\n",
       "      <td>Salaried</td>\n",
       "      <td>3.061310</td>\n",
       "      <td>38167.11</td>\n",
       "      <td>140514.31</td>\n",
       "      <td>60</td>\n",
       "      <td>17.12</td>\n",
       "      <td>3501.53</td>\n",
       "      <td>687.0</td>\n",
       "      <td>1.0</td>\n",
       "      <td>0</td>\n",
       "      <td>CITY_41</td>\n",
       "      <td>0</td>\n",
       "    </tr>\n",
       "    <tr>\n",
       "      <th>2</th>\n",
       "      <td>3</td>\n",
       "      <td>2020-09-24</td>\n",
       "      <td>42</td>\n",
       "      <td>F</td>\n",
       "      <td>Bachelor</td>\n",
       "      <td>Unemployed</td>\n",
       "      <td>12.040059</td>\n",
       "      <td>8666.27</td>\n",
       "      <td>13340.61</td>\n",
       "      <td>60</td>\n",
       "      <td>11.89</td>\n",
       "      <td>296.01</td>\n",
       "      <td>795.0</td>\n",
       "      <td>0.0</td>\n",
       "      <td>0</td>\n",
       "      <td>CITY_68</td>\n",
       "      <td>0</td>\n",
       "    </tr>\n",
       "    <tr>\n",
       "      <th>6</th>\n",
       "      <td>7</td>\n",
       "      <td>2021-10-13</td>\n",
       "      <td>53</td>\n",
       "      <td>M</td>\n",
       "      <td>Bachelor</td>\n",
       "      <td>Business</td>\n",
       "      <td>7.889522</td>\n",
       "      <td>66501.01</td>\n",
       "      <td>166950.48</td>\n",
       "      <td>24</td>\n",
       "      <td>12.77</td>\n",
       "      <td>7918.88</td>\n",
       "      <td>744.0</td>\n",
       "      <td>3.0</td>\n",
       "      <td>0</td>\n",
       "      <td>CITY_11</td>\n",
       "      <td>0</td>\n",
       "    </tr>\n",
       "    <tr>\n",
       "      <th>8</th>\n",
       "      <td>9</td>\n",
       "      <td>2020-10-11</td>\n",
       "      <td>29</td>\n",
       "      <td>M</td>\n",
       "      <td>Bachelor</td>\n",
       "      <td>Business</td>\n",
       "      <td>6.069118</td>\n",
       "      <td>70037.05</td>\n",
       "      <td>112986.80</td>\n",
       "      <td>48</td>\n",
       "      <td>7.60</td>\n",
       "      <td>2737.38</td>\n",
       "      <td>811.0</td>\n",
       "      <td>3.0</td>\n",
       "      <td>0</td>\n",
       "      <td>CITY_20</td>\n",
       "      <td>1</td>\n",
       "    </tr>\n",
       "    <tr>\n",
       "      <th>10</th>\n",
       "      <td>11</td>\n",
       "      <td>2021-01-15</td>\n",
       "      <td>29</td>\n",
       "      <td>M</td>\n",
       "      <td>Bachelor</td>\n",
       "      <td>Salaried</td>\n",
       "      <td>9.735460</td>\n",
       "      <td>27781.31</td>\n",
       "      <td>42110.04</td>\n",
       "      <td>24</td>\n",
       "      <td>10.11</td>\n",
       "      <td>1945.34</td>\n",
       "      <td>608.0</td>\n",
       "      <td>0.0</td>\n",
       "      <td>0</td>\n",
       "      <td>CITY_18</td>\n",
       "      <td>0</td>\n",
       "    </tr>\n",
       "  </tbody>\n",
       "</table>\n",
       "</div>"
      ],
      "text/plain": [
       "    ApplicationId ApplicationDate  Age Gender Education  Occupation  \\\n",
       "1               2      2020-05-21   33      M  Bachelor    Salaried   \n",
       "2               3      2020-09-24   42      F  Bachelor  Unemployed   \n",
       "6               7      2021-10-13   53      M  Bachelor    Business   \n",
       "8               9      2020-10-11   29      M  Bachelor    Business   \n",
       "10             11      2021-01-15   29      M  Bachelor    Salaried   \n",
       "\n",
       "    EmploymentLength    Income  LoanAmount  LoanTerm  InterestRate  \\\n",
       "1           3.061310  38167.11   140514.31        60         17.12   \n",
       "2          12.040059   8666.27    13340.61        60         11.89   \n",
       "6           7.889522  66501.01   166950.48        24         12.77   \n",
       "8           6.069118  70037.05   112986.80        48          7.60   \n",
       "10          9.735460  27781.31    42110.04        24         10.11   \n",
       "\n",
       "    MonthlyPayment  CreditScore  ExistingLoans  PreviousDefaults     City  \\\n",
       "1          3501.53        687.0            1.0                 0  CITY_41   \n",
       "2           296.01        795.0            0.0                 0  CITY_68   \n",
       "6          7918.88        744.0            3.0                 0  CITY_11   \n",
       "8          2737.38        811.0            3.0                 0  CITY_20   \n",
       "10         1945.34        608.0            0.0                 0  CITY_18   \n",
       "\n",
       "    Default  \n",
       "1         0  \n",
       "2         0  \n",
       "6         0  \n",
       "8         1  \n",
       "10        0  "
      ]
     },
     "execution_count": 101,
     "metadata": {},
     "output_type": "execute_result"
    }
   ],
   "source": [
    "# A filter that will select all rows that have a Bachelor degree in the Education column.\n",
    "stats[educationFilter].head()"
   ]
  },
  {
   "cell_type": "code",
   "execution_count": 102,
   "id": "21ba3a61",
   "metadata": {},
   "outputs": [],
   "source": [
    "ageFilter = stats.Age <= 40"
   ]
  },
  {
   "cell_type": "code",
   "execution_count": 103,
   "id": "c9cd77f4",
   "metadata": {},
   "outputs": [
    {
     "data": {
      "text/html": [
       "<div>\n",
       "<style scoped>\n",
       "    .dataframe tbody tr th:only-of-type {\n",
       "        vertical-align: middle;\n",
       "    }\n",
       "\n",
       "    .dataframe tbody tr th {\n",
       "        vertical-align: top;\n",
       "    }\n",
       "\n",
       "    .dataframe thead th {\n",
       "        text-align: right;\n",
       "    }\n",
       "</style>\n",
       "<table border=\"1\" class=\"dataframe\">\n",
       "  <thead>\n",
       "    <tr style=\"text-align: right;\">\n",
       "      <th></th>\n",
       "      <th>ApplicationId</th>\n",
       "      <th>ApplicationDate</th>\n",
       "      <th>Age</th>\n",
       "      <th>Gender</th>\n",
       "      <th>Education</th>\n",
       "      <th>Occupation</th>\n",
       "      <th>EmploymentLength</th>\n",
       "      <th>Income</th>\n",
       "      <th>LoanAmount</th>\n",
       "      <th>LoanTerm</th>\n",
       "      <th>InterestRate</th>\n",
       "      <th>MonthlyPayment</th>\n",
       "      <th>CreditScore</th>\n",
       "      <th>ExistingLoans</th>\n",
       "      <th>PreviousDefaults</th>\n",
       "      <th>City</th>\n",
       "      <th>Default</th>\n",
       "    </tr>\n",
       "  </thead>\n",
       "  <tbody>\n",
       "    <tr>\n",
       "      <th>0</th>\n",
       "      <td>1</td>\n",
       "      <td>2020-01-05</td>\n",
       "      <td>40</td>\n",
       "      <td>M</td>\n",
       "      <td>Master</td>\n",
       "      <td>Self-employed</td>\n",
       "      <td>13.573526</td>\n",
       "      <td>40298.38</td>\n",
       "      <td>95254.57</td>\n",
       "      <td>48</td>\n",
       "      <td>10.95</td>\n",
       "      <td>2459.46</td>\n",
       "      <td>781.0</td>\n",
       "      <td>0.0</td>\n",
       "      <td>0</td>\n",
       "      <td>CITY_22</td>\n",
       "      <td>0</td>\n",
       "    </tr>\n",
       "    <tr>\n",
       "      <th>1</th>\n",
       "      <td>2</td>\n",
       "      <td>2020-05-21</td>\n",
       "      <td>33</td>\n",
       "      <td>M</td>\n",
       "      <td>Bachelor</td>\n",
       "      <td>Salaried</td>\n",
       "      <td>3.061310</td>\n",
       "      <td>38167.11</td>\n",
       "      <td>140514.31</td>\n",
       "      <td>60</td>\n",
       "      <td>17.12</td>\n",
       "      <td>3501.53</td>\n",
       "      <td>687.0</td>\n",
       "      <td>1.0</td>\n",
       "      <td>0</td>\n",
       "      <td>CITY_41</td>\n",
       "      <td>0</td>\n",
       "    </tr>\n",
       "    <tr>\n",
       "      <th>4</th>\n",
       "      <td>5</td>\n",
       "      <td>2020-05-15</td>\n",
       "      <td>32</td>\n",
       "      <td>M</td>\n",
       "      <td>Master</td>\n",
       "      <td>Salaried</td>\n",
       "      <td>0.782913</td>\n",
       "      <td>41115.42</td>\n",
       "      <td>51399.26</td>\n",
       "      <td>12</td>\n",
       "      <td>7.58</td>\n",
       "      <td>4461.24</td>\n",
       "      <td>510.0</td>\n",
       "      <td>0.0</td>\n",
       "      <td>0</td>\n",
       "      <td>CITY_33</td>\n",
       "      <td>1</td>\n",
       "    </tr>\n",
       "    <tr>\n",
       "      <th>5</th>\n",
       "      <td>6</td>\n",
       "      <td>2021-05-14</td>\n",
       "      <td>32</td>\n",
       "      <td>M</td>\n",
       "      <td>Other</td>\n",
       "      <td>Student</td>\n",
       "      <td>0.000000</td>\n",
       "      <td>8239.80</td>\n",
       "      <td>12788.40</td>\n",
       "      <td>48</td>\n",
       "      <td>10.84</td>\n",
       "      <td>329.55</td>\n",
       "      <td>715.0</td>\n",
       "      <td>0.0</td>\n",
       "      <td>0</td>\n",
       "      <td>CITY_39</td>\n",
       "      <td>0</td>\n",
       "    </tr>\n",
       "    <tr>\n",
       "      <th>8</th>\n",
       "      <td>9</td>\n",
       "      <td>2020-10-11</td>\n",
       "      <td>29</td>\n",
       "      <td>M</td>\n",
       "      <td>Bachelor</td>\n",
       "      <td>Business</td>\n",
       "      <td>6.069118</td>\n",
       "      <td>70037.05</td>\n",
       "      <td>112986.80</td>\n",
       "      <td>48</td>\n",
       "      <td>7.60</td>\n",
       "      <td>2737.38</td>\n",
       "      <td>811.0</td>\n",
       "      <td>3.0</td>\n",
       "      <td>0</td>\n",
       "      <td>CITY_20</td>\n",
       "      <td>1</td>\n",
       "    </tr>\n",
       "  </tbody>\n",
       "</table>\n",
       "</div>"
      ],
      "text/plain": [
       "   ApplicationId ApplicationDate  Age Gender Education     Occupation  \\\n",
       "0              1      2020-01-05   40      M    Master  Self-employed   \n",
       "1              2      2020-05-21   33      M  Bachelor       Salaried   \n",
       "4              5      2020-05-15   32      M    Master       Salaried   \n",
       "5              6      2021-05-14   32      M     Other        Student   \n",
       "8              9      2020-10-11   29      M  Bachelor       Business   \n",
       "\n",
       "   EmploymentLength    Income  LoanAmount  LoanTerm  InterestRate  \\\n",
       "0         13.573526  40298.38    95254.57        48         10.95   \n",
       "1          3.061310  38167.11   140514.31        60         17.12   \n",
       "4          0.782913  41115.42    51399.26        12          7.58   \n",
       "5          0.000000   8239.80    12788.40        48         10.84   \n",
       "8          6.069118  70037.05   112986.80        48          7.60   \n",
       "\n",
       "   MonthlyPayment  CreditScore  ExistingLoans  PreviousDefaults     City  \\\n",
       "0         2459.46        781.0            0.0                 0  CITY_22   \n",
       "1         3501.53        687.0            1.0                 0  CITY_41   \n",
       "4         4461.24        510.0            0.0                 0  CITY_33   \n",
       "5          329.55        715.0            0.0                 0  CITY_39   \n",
       "8         2737.38        811.0            3.0                 0  CITY_20   \n",
       "\n",
       "   Default  \n",
       "0        0  \n",
       "1        0  \n",
       "4        1  \n",
       "5        0  \n",
       "8        1  "
      ]
     },
     "execution_count": 103,
     "metadata": {},
     "output_type": "execute_result"
    }
   ],
   "source": [
    "stats[ageFilter].head()"
   ]
  },
  {
   "cell_type": "code",
   "execution_count": 104,
   "id": "7c54f77f",
   "metadata": {},
   "outputs": [
    {
     "data": {
      "text/html": [
       "<div>\n",
       "<style scoped>\n",
       "    .dataframe tbody tr th:only-of-type {\n",
       "        vertical-align: middle;\n",
       "    }\n",
       "\n",
       "    .dataframe tbody tr th {\n",
       "        vertical-align: top;\n",
       "    }\n",
       "\n",
       "    .dataframe thead th {\n",
       "        text-align: right;\n",
       "    }\n",
       "</style>\n",
       "<table border=\"1\" class=\"dataframe\">\n",
       "  <thead>\n",
       "    <tr style=\"text-align: right;\">\n",
       "      <th></th>\n",
       "      <th>ApplicationId</th>\n",
       "      <th>ApplicationDate</th>\n",
       "      <th>Age</th>\n",
       "      <th>Gender</th>\n",
       "      <th>Education</th>\n",
       "      <th>Occupation</th>\n",
       "      <th>EmploymentLength</th>\n",
       "      <th>Income</th>\n",
       "      <th>LoanAmount</th>\n",
       "      <th>LoanTerm</th>\n",
       "      <th>InterestRate</th>\n",
       "      <th>MonthlyPayment</th>\n",
       "      <th>CreditScore</th>\n",
       "      <th>ExistingLoans</th>\n",
       "      <th>PreviousDefaults</th>\n",
       "      <th>City</th>\n",
       "      <th>Default</th>\n",
       "    </tr>\n",
       "  </thead>\n",
       "  <tbody>\n",
       "    <tr>\n",
       "      <th>1</th>\n",
       "      <td>2</td>\n",
       "      <td>2020-05-21</td>\n",
       "      <td>33</td>\n",
       "      <td>M</td>\n",
       "      <td>Bachelor</td>\n",
       "      <td>Salaried</td>\n",
       "      <td>3.061310</td>\n",
       "      <td>38167.11</td>\n",
       "      <td>140514.31</td>\n",
       "      <td>60</td>\n",
       "      <td>17.12</td>\n",
       "      <td>3501.53</td>\n",
       "      <td>687.0</td>\n",
       "      <td>1.0</td>\n",
       "      <td>0</td>\n",
       "      <td>CITY_41</td>\n",
       "      <td>0</td>\n",
       "    </tr>\n",
       "    <tr>\n",
       "      <th>8</th>\n",
       "      <td>9</td>\n",
       "      <td>2020-10-11</td>\n",
       "      <td>29</td>\n",
       "      <td>M</td>\n",
       "      <td>Bachelor</td>\n",
       "      <td>Business</td>\n",
       "      <td>6.069118</td>\n",
       "      <td>70037.05</td>\n",
       "      <td>112986.80</td>\n",
       "      <td>48</td>\n",
       "      <td>7.60</td>\n",
       "      <td>2737.38</td>\n",
       "      <td>811.0</td>\n",
       "      <td>3.0</td>\n",
       "      <td>0</td>\n",
       "      <td>CITY_20</td>\n",
       "      <td>1</td>\n",
       "    </tr>\n",
       "    <tr>\n",
       "      <th>10</th>\n",
       "      <td>11</td>\n",
       "      <td>2021-01-15</td>\n",
       "      <td>29</td>\n",
       "      <td>M</td>\n",
       "      <td>Bachelor</td>\n",
       "      <td>Salaried</td>\n",
       "      <td>9.735460</td>\n",
       "      <td>27781.31</td>\n",
       "      <td>42110.04</td>\n",
       "      <td>24</td>\n",
       "      <td>10.11</td>\n",
       "      <td>1945.34</td>\n",
       "      <td>608.0</td>\n",
       "      <td>0.0</td>\n",
       "      <td>0</td>\n",
       "      <td>CITY_18</td>\n",
       "      <td>0</td>\n",
       "    </tr>\n",
       "    <tr>\n",
       "      <th>11</th>\n",
       "      <td>12</td>\n",
       "      <td>2021-02-16</td>\n",
       "      <td>29</td>\n",
       "      <td>F</td>\n",
       "      <td>Bachelor</td>\n",
       "      <td>Salaried</td>\n",
       "      <td>10.488172</td>\n",
       "      <td>52986.35</td>\n",
       "      <td>223276.76</td>\n",
       "      <td>12</td>\n",
       "      <td>12.85</td>\n",
       "      <td>19926.38</td>\n",
       "      <td>780.0</td>\n",
       "      <td>0.0</td>\n",
       "      <td>0</td>\n",
       "      <td>CITY_90</td>\n",
       "      <td>1</td>\n",
       "    </tr>\n",
       "    <tr>\n",
       "      <th>16</th>\n",
       "      <td>17</td>\n",
       "      <td>2020-03-07</td>\n",
       "      <td>22</td>\n",
       "      <td>F</td>\n",
       "      <td>Bachelor</td>\n",
       "      <td>Business</td>\n",
       "      <td>7.022286</td>\n",
       "      <td>36036.63</td>\n",
       "      <td>160089.00</td>\n",
       "      <td>12</td>\n",
       "      <td>16.81</td>\n",
       "      <td>14586.25</td>\n",
       "      <td>609.0</td>\n",
       "      <td>0.0</td>\n",
       "      <td>1</td>\n",
       "      <td>CITY_61</td>\n",
       "      <td>1</td>\n",
       "    </tr>\n",
       "    <tr>\n",
       "      <th>...</th>\n",
       "      <td>...</td>\n",
       "      <td>...</td>\n",
       "      <td>...</td>\n",
       "      <td>...</td>\n",
       "      <td>...</td>\n",
       "      <td>...</td>\n",
       "      <td>...</td>\n",
       "      <td>...</td>\n",
       "      <td>...</td>\n",
       "      <td>...</td>\n",
       "      <td>...</td>\n",
       "      <td>...</td>\n",
       "      <td>...</td>\n",
       "      <td>...</td>\n",
       "      <td>...</td>\n",
       "      <td>...</td>\n",
       "      <td>...</td>\n",
       "    </tr>\n",
       "    <tr>\n",
       "      <th>49971</th>\n",
       "      <td>49972</td>\n",
       "      <td>2020-09-19</td>\n",
       "      <td>38</td>\n",
       "      <td>M</td>\n",
       "      <td>Bachelor</td>\n",
       "      <td>Business</td>\n",
       "      <td>5.863703</td>\n",
       "      <td>59003.75</td>\n",
       "      <td>171383.62</td>\n",
       "      <td>48</td>\n",
       "      <td>14.33</td>\n",
       "      <td>4711.92</td>\n",
       "      <td>NaN</td>\n",
       "      <td>0.0</td>\n",
       "      <td>0</td>\n",
       "      <td>CITY_32</td>\n",
       "      <td>0</td>\n",
       "    </tr>\n",
       "    <tr>\n",
       "      <th>49976</th>\n",
       "      <td>49977</td>\n",
       "      <td>2020-02-28</td>\n",
       "      <td>38</td>\n",
       "      <td>M</td>\n",
       "      <td>Bachelor</td>\n",
       "      <td>Salaried</td>\n",
       "      <td>1.744491</td>\n",
       "      <td>49046.67</td>\n",
       "      <td>87175.04</td>\n",
       "      <td>36</td>\n",
       "      <td>9.51</td>\n",
       "      <td>2792.94</td>\n",
       "      <td>701.0</td>\n",
       "      <td>2.0</td>\n",
       "      <td>0</td>\n",
       "      <td>CITY_42</td>\n",
       "      <td>0</td>\n",
       "    </tr>\n",
       "    <tr>\n",
       "      <th>49979</th>\n",
       "      <td>49980</td>\n",
       "      <td>2020-01-13</td>\n",
       "      <td>18</td>\n",
       "      <td>F</td>\n",
       "      <td>Bachelor</td>\n",
       "      <td>Self-employed</td>\n",
       "      <td>20.027411</td>\n",
       "      <td>34246.60</td>\n",
       "      <td>99581.80</td>\n",
       "      <td>60</td>\n",
       "      <td>13.22</td>\n",
       "      <td>2277.12</td>\n",
       "      <td>657.0</td>\n",
       "      <td>1.0</td>\n",
       "      <td>0</td>\n",
       "      <td>CITY_50</td>\n",
       "      <td>0</td>\n",
       "    </tr>\n",
       "    <tr>\n",
       "      <th>49980</th>\n",
       "      <td>49981</td>\n",
       "      <td>2021-12-07</td>\n",
       "      <td>35</td>\n",
       "      <td>M</td>\n",
       "      <td>Bachelor</td>\n",
       "      <td>Retired</td>\n",
       "      <td>23.420524</td>\n",
       "      <td>9543.12</td>\n",
       "      <td>41101.22</td>\n",
       "      <td>60</td>\n",
       "      <td>15.07</td>\n",
       "      <td>979.20</td>\n",
       "      <td>634.0</td>\n",
       "      <td>1.0</td>\n",
       "      <td>0</td>\n",
       "      <td>CITY_22</td>\n",
       "      <td>0</td>\n",
       "    </tr>\n",
       "    <tr>\n",
       "      <th>49990</th>\n",
       "      <td>49991</td>\n",
       "      <td>2021-06-02</td>\n",
       "      <td>37</td>\n",
       "      <td>M</td>\n",
       "      <td>Bachelor</td>\n",
       "      <td>Business</td>\n",
       "      <td>8.820863</td>\n",
       "      <td>91867.59</td>\n",
       "      <td>273850.57</td>\n",
       "      <td>36</td>\n",
       "      <td>11.37</td>\n",
       "      <td>9013.77</td>\n",
       "      <td>850.0</td>\n",
       "      <td>3.0</td>\n",
       "      <td>1</td>\n",
       "      <td>CITY_37</td>\n",
       "      <td>0</td>\n",
       "    </tr>\n",
       "  </tbody>\n",
       "</table>\n",
       "<p>10286 rows × 17 columns</p>\n",
       "</div>"
      ],
      "text/plain": [
       "       ApplicationId ApplicationDate  Age Gender Education     Occupation  \\\n",
       "1                  2      2020-05-21   33      M  Bachelor       Salaried   \n",
       "8                  9      2020-10-11   29      M  Bachelor       Business   \n",
       "10                11      2021-01-15   29      M  Bachelor       Salaried   \n",
       "11                12      2021-02-16   29      F  Bachelor       Salaried   \n",
       "16                17      2020-03-07   22      F  Bachelor       Business   \n",
       "...              ...             ...  ...    ...       ...            ...   \n",
       "49971          49972      2020-09-19   38      M  Bachelor       Business   \n",
       "49976          49977      2020-02-28   38      M  Bachelor       Salaried   \n",
       "49979          49980      2020-01-13   18      F  Bachelor  Self-employed   \n",
       "49980          49981      2021-12-07   35      M  Bachelor        Retired   \n",
       "49990          49991      2021-06-02   37      M  Bachelor       Business   \n",
       "\n",
       "       EmploymentLength    Income  LoanAmount  LoanTerm  InterestRate  \\\n",
       "1              3.061310  38167.11   140514.31        60         17.12   \n",
       "8              6.069118  70037.05   112986.80        48          7.60   \n",
       "10             9.735460  27781.31    42110.04        24         10.11   \n",
       "11            10.488172  52986.35   223276.76        12         12.85   \n",
       "16             7.022286  36036.63   160089.00        12         16.81   \n",
       "...                 ...       ...         ...       ...           ...   \n",
       "49971          5.863703  59003.75   171383.62        48         14.33   \n",
       "49976          1.744491  49046.67    87175.04        36          9.51   \n",
       "49979         20.027411  34246.60    99581.80        60         13.22   \n",
       "49980         23.420524   9543.12    41101.22        60         15.07   \n",
       "49990          8.820863  91867.59   273850.57        36         11.37   \n",
       "\n",
       "       MonthlyPayment  CreditScore  ExistingLoans  PreviousDefaults     City  \\\n",
       "1             3501.53        687.0            1.0                 0  CITY_41   \n",
       "8             2737.38        811.0            3.0                 0  CITY_20   \n",
       "10            1945.34        608.0            0.0                 0  CITY_18   \n",
       "11           19926.38        780.0            0.0                 0  CITY_90   \n",
       "16           14586.25        609.0            0.0                 1  CITY_61   \n",
       "...               ...          ...            ...               ...      ...   \n",
       "49971         4711.92          NaN            0.0                 0  CITY_32   \n",
       "49976         2792.94        701.0            2.0                 0  CITY_42   \n",
       "49979         2277.12        657.0            1.0                 0  CITY_50   \n",
       "49980          979.20        634.0            1.0                 0  CITY_22   \n",
       "49990         9013.77        850.0            3.0                 1  CITY_37   \n",
       "\n",
       "       Default  \n",
       "1            0  \n",
       "8            1  \n",
       "10           0  \n",
       "11           1  \n",
       "16           1  \n",
       "...        ...  \n",
       "49971        0  \n",
       "49976        0  \n",
       "49979        0  \n",
       "49980        0  \n",
       "49990        0  \n",
       "\n",
       "[10286 rows x 17 columns]"
      ]
     },
     "execution_count": 104,
     "metadata": {},
     "output_type": "execute_result"
    }
   ],
   "source": [
    "stats[ageFilter & educationFilter]"
   ]
  },
  {
   "cell_type": "code",
   "execution_count": 105,
   "id": "82a705dd",
   "metadata": {},
   "outputs": [
    {
     "data": {
      "text/html": [
       "<div>\n",
       "<style scoped>\n",
       "    .dataframe tbody tr th:only-of-type {\n",
       "        vertical-align: middle;\n",
       "    }\n",
       "\n",
       "    .dataframe tbody tr th {\n",
       "        vertical-align: top;\n",
       "    }\n",
       "\n",
       "    .dataframe thead th {\n",
       "        text-align: right;\n",
       "    }\n",
       "</style>\n",
       "<table border=\"1\" class=\"dataframe\">\n",
       "  <thead>\n",
       "    <tr style=\"text-align: right;\">\n",
       "      <th></th>\n",
       "      <th>ApplicationId</th>\n",
       "      <th>ApplicationDate</th>\n",
       "      <th>Age</th>\n",
       "      <th>Gender</th>\n",
       "      <th>Education</th>\n",
       "      <th>Occupation</th>\n",
       "      <th>EmploymentLength</th>\n",
       "      <th>Income</th>\n",
       "      <th>LoanAmount</th>\n",
       "      <th>LoanTerm</th>\n",
       "      <th>InterestRate</th>\n",
       "      <th>MonthlyPayment</th>\n",
       "      <th>CreditScore</th>\n",
       "      <th>ExistingLoans</th>\n",
       "      <th>PreviousDefaults</th>\n",
       "      <th>City</th>\n",
       "      <th>Default</th>\n",
       "    </tr>\n",
       "  </thead>\n",
       "  <tbody>\n",
       "    <tr>\n",
       "      <th>65</th>\n",
       "      <td>66</td>\n",
       "      <td>2020-03-20</td>\n",
       "      <td>51</td>\n",
       "      <td>M</td>\n",
       "      <td>Bachelor</td>\n",
       "      <td>Self-employed</td>\n",
       "      <td>5.472662</td>\n",
       "      <td>95302.32</td>\n",
       "      <td>323098.28</td>\n",
       "      <td>24</td>\n",
       "      <td>12.11</td>\n",
       "      <td>15225.85</td>\n",
       "      <td>652.0</td>\n",
       "      <td>1.0</td>\n",
       "      <td>0</td>\n",
       "      <td>CITY_63</td>\n",
       "      <td>1</td>\n",
       "    </tr>\n",
       "    <tr>\n",
       "      <th>79</th>\n",
       "      <td>80</td>\n",
       "      <td>2021-06-15</td>\n",
       "      <td>18</td>\n",
       "      <td>F</td>\n",
       "      <td>Bachelor</td>\n",
       "      <td>Self-employed</td>\n",
       "      <td>2.529777</td>\n",
       "      <td>49404.25</td>\n",
       "      <td>124941.64</td>\n",
       "      <td>12</td>\n",
       "      <td>17.01</td>\n",
       "      <td>11396.15</td>\n",
       "      <td>751.0</td>\n",
       "      <td>2.0</td>\n",
       "      <td>0</td>\n",
       "      <td>CITY_47</td>\n",
       "      <td>0</td>\n",
       "    </tr>\n",
       "    <tr>\n",
       "      <th>97</th>\n",
       "      <td>98</td>\n",
       "      <td>2020-04-24</td>\n",
       "      <td>38</td>\n",
       "      <td>M</td>\n",
       "      <td>Bachelor</td>\n",
       "      <td>Self-employed</td>\n",
       "      <td>6.633793</td>\n",
       "      <td>25926.40</td>\n",
       "      <td>49077.23</td>\n",
       "      <td>60</td>\n",
       "      <td>14.34</td>\n",
       "      <td>1150.67</td>\n",
       "      <td>700.0</td>\n",
       "      <td>0.0</td>\n",
       "      <td>0</td>\n",
       "      <td>CITY_3</td>\n",
       "      <td>0</td>\n",
       "    </tr>\n",
       "    <tr>\n",
       "      <th>99</th>\n",
       "      <td>100</td>\n",
       "      <td>2020-02-04</td>\n",
       "      <td>32</td>\n",
       "      <td>M</td>\n",
       "      <td>Bachelor</td>\n",
       "      <td>Self-employed</td>\n",
       "      <td>8.281658</td>\n",
       "      <td>54639.40</td>\n",
       "      <td>124796.31</td>\n",
       "      <td>48</td>\n",
       "      <td>12.36</td>\n",
       "      <td>3308.31</td>\n",
       "      <td>743.0</td>\n",
       "      <td>1.0</td>\n",
       "      <td>0</td>\n",
       "      <td>CITY_90</td>\n",
       "      <td>0</td>\n",
       "    </tr>\n",
       "    <tr>\n",
       "      <th>117</th>\n",
       "      <td>118</td>\n",
       "      <td>2020-05-15</td>\n",
       "      <td>20</td>\n",
       "      <td>M</td>\n",
       "      <td>Bachelor</td>\n",
       "      <td>Self-employed</td>\n",
       "      <td>12.028680</td>\n",
       "      <td>56059.26</td>\n",
       "      <td>147587.74</td>\n",
       "      <td>36</td>\n",
       "      <td>11.68</td>\n",
       "      <td>4879.81</td>\n",
       "      <td>697.0</td>\n",
       "      <td>2.0</td>\n",
       "      <td>0</td>\n",
       "      <td>CITY_27</td>\n",
       "      <td>0</td>\n",
       "    </tr>\n",
       "  </tbody>\n",
       "</table>\n",
       "</div>"
      ],
      "text/plain": [
       "     ApplicationId ApplicationDate  Age Gender Education     Occupation  \\\n",
       "65              66      2020-03-20   51      M  Bachelor  Self-employed   \n",
       "79              80      2021-06-15   18      F  Bachelor  Self-employed   \n",
       "97              98      2020-04-24   38      M  Bachelor  Self-employed   \n",
       "99             100      2020-02-04   32      M  Bachelor  Self-employed   \n",
       "117            118      2020-05-15   20      M  Bachelor  Self-employed   \n",
       "\n",
       "     EmploymentLength    Income  LoanAmount  LoanTerm  InterestRate  \\\n",
       "65           5.472662  95302.32   323098.28        24         12.11   \n",
       "79           2.529777  49404.25   124941.64        12         17.01   \n",
       "97           6.633793  25926.40    49077.23        60         14.34   \n",
       "99           8.281658  54639.40   124796.31        48         12.36   \n",
       "117         12.028680  56059.26   147587.74        36         11.68   \n",
       "\n",
       "     MonthlyPayment  CreditScore  ExistingLoans  PreviousDefaults     City  \\\n",
       "65         15225.85        652.0            1.0                 0  CITY_63   \n",
       "79         11396.15        751.0            2.0                 0  CITY_47   \n",
       "97          1150.67        700.0            0.0                 0   CITY_3   \n",
       "99          3308.31        743.0            1.0                 0  CITY_90   \n",
       "117         4879.81        697.0            2.0                 0  CITY_27   \n",
       "\n",
       "     Default  \n",
       "65         1  \n",
       "79         0  \n",
       "97         0  \n",
       "99         0  \n",
       "117        0  "
      ]
     },
     "execution_count": 105,
     "metadata": {},
     "output_type": "execute_result"
    }
   ],
   "source": [
    "stats[(stats.Occupation == 'Self-employed') & educationFilter].head()"
   ]
  },
  {
   "cell_type": "markdown",
   "id": "2c26a46a",
   "metadata": {},
   "source": [
    "Accessing individual elements"
   ]
  },
  {
   "cell_type": "code",
   "execution_count": 107,
   "id": "ab07d01c",
   "metadata": {},
   "outputs": [
    {
     "data": {
      "text/plain": [
       "1    Salaried\n",
       "Name: Occupation, dtype: object"
      ]
     },
     "execution_count": 107,
     "metadata": {},
     "output_type": "execute_result"
    }
   ],
   "source": [
    "# Method used by specifying the start of the row and up to the end of the same row and name of the column\n",
    "stats[1:2]['Occupation']"
   ]
  },
  {
   "cell_type": "code",
   "execution_count": 108,
   "id": "ec263888",
   "metadata": {},
   "outputs": [
    {
     "data": {
      "text/plain": [
       "'Salaried'"
      ]
     },
     "execution_count": 108,
     "metadata": {},
     "output_type": "execute_result"
    }
   ],
   "source": [
    "# Method used .iat for integer location (using row index and column index)\n",
    "stats.iat[1,5]"
   ]
  },
  {
   "cell_type": "code",
   "execution_count": 109,
   "id": "36c99b5a",
   "metadata": {},
   "outputs": [
    {
     "data": {
      "text/plain": [
       "'Salaried'"
      ]
     },
     "execution_count": 109,
     "metadata": {},
     "output_type": "execute_result"
    }
   ],
   "source": [
    "# Method that uses  labels rows(indexes) and columns(column names) to get a cell's value\n",
    "stats.at[1, 'Occupation']"
   ]
  },
  {
   "cell_type": "markdown",
   "id": "89970db4",
   "metadata": {},
   "source": [
    "Introduction to Seaborn"
   ]
  },
  {
   "cell_type": "code",
   "execution_count": 171,
   "id": "cdea53cd",
   "metadata": {},
   "outputs": [],
   "source": [
    "statsSmall = stats.head(500)\n"
   ]
  },
  {
   "cell_type": "code",
   "execution_count": 112,
   "id": "72a0839b",
   "metadata": {},
   "outputs": [],
   "source": [
    "import matplotlib.pyplot as plt\n",
    "import seaborn as sns\n",
    "%matplotlib inline\n",
    "plt.rcParams['figure.figsize'] = 25, 8\n",
    "cap_columns = []\n",
    "import warnings\n",
    "warnings.filterwarnings('ignore')"
   ]
  },
  {
   "cell_type": "code",
   "execution_count": 113,
   "id": "01a70591",
   "metadata": {},
   "outputs": [
    {
     "data": {
      "image/png": "[encoded data removed]",
      "text/plain": [
       "<Figure size 360x360 with 1 Axes>"
      ]
     },
     "metadata": {
      "needs_background": "light"
     },
     "output_type": "display_data"
    }
   ],
   "source": [
    "#Distribution\n",
    "vis1 = sns.displot(statsSmall['Income'], color='purple')"
   ]
  },
  {
   "cell_type": "code",
   "execution_count": 114,
   "id": "79e6f0ea",
   "metadata": {},
   "outputs": [
    {
     "data": {
      "image/png": "[encoded data removed]",
      "text/plain": [
       "<Figure size 1800x576 with 1 Axes>"
      ]
     },
     "metadata": {
      "needs_background": "light"
     },
     "output_type": "display_data"
    }
   ],
   "source": [
    "#Boxplots:\n",
    "vis2 = sns.boxplot(data=statsSmall, x='Education', y='Income')"
   ]
  },
  {
   "cell_type": "code",
   "execution_count": 170,
   "id": "4e6a65a2",
   "metadata": {},
   "outputs": [
    {
     "data": {
      "image/png": "[encoded data removed]",
      "text/plain": [
       "<Figure size 404.875x360 with 1 Axes>"
      ]
     },
     "metadata": {
      "needs_background": "light"
     },
     "output_type": "display_data"
    }
   ],
   "source": [
    "vis3 = sns.lmplot(data=statsSmall, x='Income', y='Age', markers='o', fit_reg=False, hue='Gender', scatter_kws={'s': 35})"
   ]
  },
  {
   "cell_type": "code",
   "execution_count": null,
   "id": "2a7ef0f3",
   "metadata": {},
   "outputs": [],
   "source": []
  },
  {
   "cell_type": "code",
   "execution_count": 116,
   "id": "2b6c9d13",
   "metadata": {},
   "outputs": [
    {
     "data": {
      "text/plain": [
       "0      CITY_22\n",
       "1      CITY_41\n",
       "2      CITY_68\n",
       "3       CITY_8\n",
       "4      CITY_33\n",
       "        ...   \n",
       "495    CITY_47\n",
       "496    CITY_50\n",
       "497    CITY_72\n",
       "498    CITY_56\n",
       "499     CITY_9\n",
       "Name: City, Length: 500, dtype: object"
      ]
     },
     "execution_count": 116,
     "metadata": {},
     "output_type": "execute_result"
    }
   ],
   "source": [
    "statsSmall.City"
   ]
  },
  {
   "cell_type": "code",
   "execution_count": 117,
   "id": "42a8c288",
   "metadata": {},
   "outputs": [
    {
     "data": {
      "text/plain": [
       "0      2020-01-05\n",
       "1      2020-05-21\n",
       "2      2020-09-24\n",
       "3      2020-05-10\n",
       "4      2020-05-15\n",
       "          ...    \n",
       "495    2021-07-12\n",
       "496    2021-06-12\n",
       "497    2021-06-16\n",
       "498    2021-02-06\n",
       "499    2020-09-21\n",
       "Name: ApplicationDate, Length: 500, dtype: object"
      ]
     },
     "execution_count": 117,
     "metadata": {},
     "output_type": "execute_result"
    }
   ],
   "source": [
    "statsSmall.ApplicationDate"
   ]
  },
  {
   "cell_type": "code",
   "execution_count": 118,
   "id": "d347b718",
   "metadata": {},
   "outputs": [
    {
     "ename": "",
     "evalue": "",
     "output_type": "error",
     "traceback": [
      "\u001b[1;31mFailed to connect to the remote Jupyter Server 'http://localhost:8888/'. Verify the server is running and reachable. (Failed to connect to the remote Jupyter Server 'http://localhost:8888/'. Verify the server is running and reachable. (Forbidden).)."
     ]
    }
   ],
   "source": [
    "stats['ApplicationDate'] = pd.to_datetime(stats['ApplicationDate'])"
   ]
  },
  {
   "cell_type": "code",
   "execution_count": 119,
   "id": "e66293a8",
   "metadata": {},
   "outputs": [
    {
     "data": {
      "text/plain": [
       "0      2020-01-05\n",
       "1      2020-05-21\n",
       "2      2020-09-24\n",
       "3      2020-05-10\n",
       "4      2020-05-15\n",
       "          ...    \n",
       "495    2021-07-12\n",
       "496    2021-06-12\n",
       "497    2021-06-16\n",
       "498    2021-02-06\n",
       "499    2020-09-21\n",
       "Name: ApplicationDate, Length: 500, dtype: object"
      ]
     },
     "execution_count": 119,
     "metadata": {},
     "output_type": "execute_result"
    }
   ],
   "source": [
    "statsSmall.ApplicationDate"
   ]
  },
  {
   "cell_type": "code",
   "execution_count": 120,
   "id": "cf886608",
   "metadata": {},
   "outputs": [
    {
     "name": "stdout",
     "output_type": "stream",
     "text": [
      "<class 'pandas.core.frame.DataFrame'>\n",
      "RangeIndex: 50000 entries, 0 to 49999\n",
      "Data columns (total 19 columns):\n",
      " #   Column            Non-Null Count  Dtype         \n",
      "---  ------            --------------  -----         \n",
      " 0   ApplicationId     50000 non-null  int64         \n",
      " 1   ApplicationDate   50000 non-null  datetime64[ns]\n",
      " 2   Age               50000 non-null  int64         \n",
      " 3   Gender            50000 non-null  object        \n",
      " 4   Education         50000 non-null  object        \n",
      " 5   Occupation        50000 non-null  object        \n",
      " 6   EmploymentLength  42840 non-null  float64       \n",
      " 7   Income            47555 non-null  float64       \n",
      " 8   LoanAmount        50000 non-null  float64       \n",
      " 9   LoanTerm          50000 non-null  int64         \n",
      " 10  InterestRate      50000 non-null  float64       \n",
      " 11  MonthlyPayment    50000 non-null  float64       \n",
      " 12  CreditScore       47422 non-null  float64       \n",
      " 13  ExistingLoans     47487 non-null  float64       \n",
      " 14  PreviousDefaults  50000 non-null  int64         \n",
      " 15  City              50000 non-null  object        \n",
      " 16  Default           50000 non-null  int64         \n",
      " 17  month             50000 non-null  int64         \n",
      " 18  year              50000 non-null  int64         \n",
      "dtypes: datetime64[ns](1), float64(7), int64(7), object(4)\n",
      "memory usage: 7.2+ MB\n"
     ]
    }
   ],
   "source": [
    "stats['month'] = stats['ApplicationDate'].dt.month\n",
    "stats['year'] = stats['ApplicationDate'].dt.year\n",
    "stats.info()"
   ]
  },
  {
   "cell_type": "code",
   "execution_count": 122,
   "id": "e36c8c60",
   "metadata": {},
   "outputs": [],
   "source": [
    "# Categorize features\n",
    "numerical_features = ['Age', 'Income', 'LoanAmount', 'LoanTerm', 'InterestRate', 'MonthlyPayment', 'CreditScore', 'EmploymentLength']\n",
    "categorical_features= ['Gender', 'Education', 'Occupation', 'City']\n",
    "temporal_features = ['ApplicationDate']\n",
    "target = 'Default'"
   ]
  },
  {
   "cell_type": "code",
   "execution_count": 123,
   "id": "ab9d6d5a",
   "metadata": {},
   "outputs": [],
   "source": [
    "from sklearn.impute import SimpleImputer\n",
    "from sklearn.preprocessing import StandardScaler"
   ]
  },
  {
   "cell_type": "markdown",
   "id": "626572ba",
   "metadata": {},
   "source": [
    "Data Cleaning and Missing Values\n",
    "1.  Learn how to handle missing values asppropriately\n",
    "2.  Understand different imputation strategies\n",
    "3.  Implement data cleaning techniques"
   ]
  },
  {
   "cell_type": "markdown",
   "id": "1e6506f8",
   "metadata": {},
   "source": [
    "Analyze missing values"
   ]
  },
  {
   "cell_type": "code",
   "execution_count": 124,
   "id": "56d2ab9b",
   "metadata": {},
   "outputs": [],
   "source": [
    "missing_values = stats.isnull().sum()\n",
    "missing_percentages = (missing_values/len(stats)) * 100"
   ]
  },
  {
   "cell_type": "markdown",
   "id": "ee514cdb",
   "metadata": {},
   "source": [
    "Print Missing Values"
   ]
  },
  {
   "cell_type": "markdown",
   "id": "e04cafa4",
   "metadata": {},
   "source": [
    "Missing values analyzes"
   ]
  },
  {
   "cell_type": "code",
   "execution_count": 125,
   "id": "89b84172",
   "metadata": {},
   "outputs": [
    {
     "name": "stdout",
     "output_type": "stream",
     "text": [
      "EmploymentLength: 14.32%\n",
      "Income: 4.89%\n",
      "CreditScore: 5.16%\n",
      "ExistingLoans: 5.03%\n"
     ]
    }
   ],
   "source": [
    "for column, percentage in missing_percentages[missing_percentages > 0].items():\n",
    "  print(f\"{column}: {percentage:.2f}%\")"
   ]
  },
  {
   "cell_type": "markdown",
   "id": "5d9dc13a",
   "metadata": {},
   "source": [
    "Visualize missing value paterns"
   ]
  },
  {
   "cell_type": "code",
   "execution_count": 126,
   "id": "ef2292b0",
   "metadata": {},
   "outputs": [
    {
     "data": {
      "image/png": "[encoded data removed]",
      "text/plain": [
       "<Figure size 864x432 with 2 Axes>"
      ]
     },
     "metadata": {
      "needs_background": "light"
     },
     "output_type": "display_data"
    }
   ],
   "source": [
    "plt.figure(figsize=(12,6))\n",
    "sns.heatmap(stats.isnull(), yticklabels=False, cbar=True, cmap='viridis')\n",
    "plt.title('Missing Values Patterns')\n",
    "plt.tight_layout()\n",
    "plt.show()"
   ]
  },
  {
   "cell_type": "markdown",
   "id": "193dee5f",
   "metadata": {},
   "source": [
    "Create a copy of dataframe for cleaning"
   ]
  },
  {
   "cell_type": "code",
   "execution_count": 127,
   "id": "7ca09bcf",
   "metadata": {},
   "outputs": [],
   "source": [
    "stats_clean = stats.copy()"
   ]
  },
  {
   "cell_type": "markdown",
   "id": "62e42c98",
   "metadata": {},
   "source": [
    "Handle UnemploymentLength missing values\n",
    "Strategy: Use median for different education levels"
   ]
  },
  {
   "cell_type": "code",
   "execution_count": 128,
   "id": "6059e8f2",
   "metadata": {},
   "outputs": [
    {
     "name": "stdout",
     "output_type": "stream",
     "text": [
      "\n",
      "Median EmploymentLength by Education level:\n",
      "Education\n",
      "Bachelor       7.970018\n",
      "High School    7.952542\n",
      "Master         8.036012\n",
      "Other          8.181292\n",
      "PhD            7.941047\n",
      "Name: EmploymentLength, dtype: float64\n"
     ]
    }
   ],
   "source": [
    "print('\\nMedian EmploymentLength by Education level:')\n",
    "print(stats.groupby('Education')['EmploymentLength'].median())"
   ]
  },
  {
   "cell_type": "markdown",
   "id": "fe52d088",
   "metadata": {},
   "source": [
    "Fill in missing cells for column EmploymentLength with the median off all those with same education level"
   ]
  },
  {
   "cell_type": "code",
   "execution_count": 129,
   "id": "f5d0c983",
   "metadata": {},
   "outputs": [],
   "source": [
    "for education in stats['Education'].unique():\n",
    "  mask = stats_clean['Education'] == education\n",
    "  median_edu_length = stats[mask]['EmploymentLength'].median()\n",
    "  stats_clean.loc[mask & stats_clean['EmploymentLength'].isnull(), 'EmploymentLength'] = median_edu_length"
   ]
  },
  {
   "cell_type": "code",
   "execution_count": 130,
   "id": "92351ebb",
   "metadata": {},
   "outputs": [
    {
     "name": "stdout",
     "output_type": "stream",
     "text": [
      "EmploymentLength: 14.32%\n",
      "Income: 4.89%\n",
      "CreditScore: 5.16%\n",
      "ExistingLoans: 5.03%\n"
     ]
    }
   ],
   "source": [
    "missing_values_clean = stats_clean.isnull().sum()\n",
    "missing_percentages_clean = (missing_values/len(stats)) * 100\n",
    "for column, percentage in missing_percentages_clean[missing_percentages_clean > 0].items():\n",
    "  print(f\"{column}: {percentage:.2f}%\")"
   ]
  },
  {
   "cell_type": "markdown",
   "id": "57572356",
   "metadata": {},
   "source": [
    "Fill in missing cells for Income via both columns Education and Occupation with medians\n"
   ]
  },
  {
   "cell_type": "code",
   "execution_count": 131,
   "id": "259e1c40",
   "metadata": {},
   "outputs": [
    {
     "name": "stdout",
     "output_type": "stream",
     "text": [
      "Median Income by Education and Occupation: \n",
      "Education  Occupation   \n",
      "Bachelor   Business         50463.64\n",
      "           Retired          25748.04\n",
      "           Salaried         36141.72\n",
      "           Self-employed    42693.90\n",
      "           Student          11121.33\n",
      "Name: Income, dtype: float64\n"
     ]
    }
   ],
   "source": [
    "print('Median Income by Education and Occupation: ')\n",
    "print(stats.groupby(['Education', 'Occupation'])['Income'].median().head())"
   ]
  },
  {
   "cell_type": "code",
   "execution_count": 138,
   "id": "dc98635e",
   "metadata": {},
   "outputs": [],
   "source": [
    "for(edu, occ) in stats.groupby(['Education', 'Occupation'])['Income'].groups:\n",
    "  mask = (stats_clean['Education'] == edu) & (stats_clean['Occupation'] == occ)\n",
    "  median_income = stats[mask]['Income'].median()\n",
    "  stats_clean.loc[mask & stats_clean['Income'].isnull(), 'Income'] = median_income"
   ]
  },
  {
   "cell_type": "code",
   "execution_count": 139,
   "id": "4bbd8171",
   "metadata": {},
   "outputs": [
    {
     "name": "stdout",
     "output_type": "stream",
     "text": [
      "CreditScore: 5.16%\n",
      "ExistingLoans: 5.03%\n"
     ]
    }
   ],
   "source": [
    "missing_values_clean = stats_clean.isnull().sum()\n",
    "missing_percentages_clean = (missing_values_clean/len(stats)) * 100\n",
    "for column, percentage in missing_percentages_clean[missing_percentages_clean > 0].items():\n",
    "  print(f\"{column}: {percentage:.2f}%\")"
   ]
  },
  {
   "cell_type": "markdown",
   "id": "f8e62efd",
   "metadata": {},
   "source": [
    "Handle CreditScore's missing values.\n"
   ]
  },
  {
   "cell_type": "markdown",
   "id": "c15a9982",
   "metadata": {},
   "source": [
    "Strategy: Use simple Imputer with median Strategy"
   ]
  },
  {
   "cell_type": "code",
   "execution_count": 142,
   "id": "37647f65",
   "metadata": {},
   "outputs": [],
   "source": [
    "credit_imputer = SimpleImputer(strategy='median')\n",
    "stats_clean['CreditScore'] = credit_imputer.fit_transform(stats_clean[['CreditScore']])"
   ]
  },
  {
   "cell_type": "code",
   "execution_count": 143,
   "id": "a0bae24d",
   "metadata": {},
   "outputs": [
    {
     "name": "stdout",
     "output_type": "stream",
     "text": [
      "ExistingLoans: 5.03%\n"
     ]
    }
   ],
   "source": [
    "missing_values_clean = stats_clean.isnull().sum()\n",
    "missing_percentages_clean = (missing_values_clean/len(stats)) * 100\n",
    "for column, percentage in missing_percentages_clean[missing_percentages_clean > 0].items():\n",
    "  print(f\"{column}: {percentage:.2f}%\")"
   ]
  },
  {
   "cell_type": "markdown",
   "id": "f206a87e",
   "metadata": {},
   "source": [
    "Handle ExistingLoans missing values"
   ]
  },
  {
   "cell_type": "markdown",
   "id": "8c0a45ef",
   "metadata": {},
   "source": [
    "Strategy: Fill with 0 (assume no existing loans if not specified)"
   ]
  },
  {
   "cell_type": "code",
   "execution_count": 144,
   "id": "d448c924",
   "metadata": {},
   "outputs": [],
   "source": [
    "stats_clean['ExistingLoans'] = stats_clean['ExistingLoans'].fillna(0)"
   ]
  },
  {
   "cell_type": "code",
   "execution_count": 145,
   "id": "2b5f6ef0",
   "metadata": {},
   "outputs": [],
   "source": [
    "missing_values_clean = stats_clean.isnull().sum()\n",
    "missing_percentages_clean = (missing_values_clean/len(stats)) * 100\n",
    "for column, percentage in missing_percentages_clean[missing_percentages_clean > 0].items():\n",
    "  print(f\"{column}: {percentage:.2f}%\")"
   ]
  },
  {
   "cell_type": "code",
   "execution_count": null,
   "id": "a5c27af4",
   "metadata": {},
   "outputs": [],
   "source": []
  }
 ],
 "metadata": {
  "kernelspec": {
   "display_name": "Python 3 (ipykernel)",
   "language": "python",
   "name": "python3"
  }
 },
 "nbformat": 4,
 "nbformat_minor": 5
}
